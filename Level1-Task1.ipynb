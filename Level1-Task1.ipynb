{
 "cells": [
  {
   "cell_type": "markdown",
   "metadata": {},
   "source": [
    "# Level-1(Task-1)"
   ]
  },
  {
   "cell_type": "markdown",
   "metadata": {},
   "source": [
    "# Data Exploration and Preprocessing"
   ]
  },
  {
   "cell_type": "code",
   "execution_count": 1,
   "metadata": {},
   "outputs": [
    {
     "name": "stdout",
     "output_type": "stream",
     "text": [
      "Number of rows: 9551\n",
      "Number of columns: 21\n",
      "Column names: Index(['Restaurant ID', 'Restaurant Name', 'Country Code', 'City', 'Address',\n",
      "       'Locality', 'Locality Verbose', 'Longitude', 'Latitude', 'Cuisines',\n",
      "       'Average Cost for two', 'Currency', 'Has Table booking',\n",
      "       'Has Online delivery', 'Is delivering now', 'Switch to order menu',\n",
      "       'Price range', 'Aggregate rating', 'Rating color', 'Rating text',\n",
      "       'Votes'],\n",
      "      dtype='object')\n"
     ]
    }
   ],
   "source": [
    "import pandas as pd\n",
    "import numpy as np\n",
    "#load the dataset\n",
    "df=pd.read_csv('c:/Users/Usha/Downloads/dataset.csv.csv')\n",
    "#get the number of rows and columns\n",
    "print(\"Number of rows:\",df.shape[0])\n",
    "print(\"Number of columns:\",df.shape[1])\n",
    "#print the column names\n",
    "print(\"Column names:\",df.columns)\n",
    "#dispaly first 5 rows"
   ]
  },
  {
   "cell_type": "markdown",
   "metadata": {},
   "source": [
    "## Checking missing values"
   ]
  },
  {
   "cell_type": "code",
   "execution_count": 5,
   "metadata": {},
   "outputs": [
    {
     "data": {
      "text/plain": [
       "Restaurant ID           0\n",
       "Restaurant Name         0\n",
       "Country Code            0\n",
       "City                    0\n",
       "Address                 0\n",
       "Locality                0\n",
       "Locality Verbose        0\n",
       "Longitude               0\n",
       "Latitude                0\n",
       "Cuisines                9\n",
       "Average Cost for two    0\n",
       "Currency                0\n",
       "Has Table booking       0\n",
       "Has Online delivery     0\n",
       "Is delivering now       0\n",
       "Switch to order menu    0\n",
       "Price range             0\n",
       "Aggregate rating        0\n",
       "Rating color            0\n",
       "Rating text             0\n",
       "Votes                   0\n",
       "dtype: int64"
      ]
     },
     "execution_count": 5,
     "metadata": {},
     "output_type": "execute_result"
    }
   ],
   "source": [
    "#checking missing values\n",
    "df.isnull().sum()"
   ]
  },
  {
   "cell_type": "code",
   "execution_count": 6,
   "metadata": {},
   "outputs": [
    {
     "name": "stderr",
     "output_type": "stream",
     "text": [
      "C:\\Users\\Usha\\AppData\\Local\\Temp\\ipykernel_988\\799307298.py:4: FutureWarning: A value is trying to be set on a copy of a DataFrame or Series through chained assignment using an inplace method.\n",
      "The behavior will change in pandas 3.0. This inplace method will never work because the intermediate object on which we are setting values always behaves as a copy.\n",
      "\n",
      "For example, when doing 'df[col].method(value, inplace=True)', try using 'df.method({col: value}, inplace=True)' or df[col] = df[col].method(value) instead, to perform the operation inplace on the original object.\n",
      "\n",
      "\n",
      "  df[col].fillna(df[col].mode()[0],inplace=True)\n",
      "C:\\Users\\Usha\\AppData\\Local\\Temp\\ipykernel_988\\799307298.py:6: FutureWarning: A value is trying to be set on a copy of a DataFrame or Series through chained assignment using an inplace method.\n",
      "The behavior will change in pandas 3.0. This inplace method will never work because the intermediate object on which we are setting values always behaves as a copy.\n",
      "\n",
      "For example, when doing 'df[col].method(value, inplace=True)', try using 'df.method({col: value}, inplace=True)' or df[col] = df[col].method(value) instead, to perform the operation inplace on the original object.\n",
      "\n",
      "\n",
      "  df[col].fillna(df[col].mean(),inplace=True)\n"
     ]
    },
    {
     "data": {
      "text/plain": [
       "Restaurant ID           0\n",
       "Restaurant Name         0\n",
       "Country Code            0\n",
       "City                    0\n",
       "Address                 0\n",
       "Locality                0\n",
       "Locality Verbose        0\n",
       "Longitude               0\n",
       "Latitude                0\n",
       "Cuisines                0\n",
       "Average Cost for two    0\n",
       "Currency                0\n",
       "Has Table booking       0\n",
       "Has Online delivery     0\n",
       "Is delivering now       0\n",
       "Switch to order menu    0\n",
       "Price range             0\n",
       "Aggregate rating        0\n",
       "Rating color            0\n",
       "Rating text             0\n",
       "Votes                   0\n",
       "dtype: int64"
      ]
     },
     "execution_count": 6,
     "metadata": {},
     "output_type": "execute_result"
    }
   ],
   "source": [
    "categorical_cols=df.select_dtypes(include=['object','category']).columns\n",
    "numerical_cols=df.select_dtypes(include=['number']).columns\n",
    "for col in categorical_cols:\n",
    "    df[col].fillna(df[col].mode()[0],inplace=True)\n",
    "for col in numerical_cols:\n",
    "    df[col].fillna(df[col].mean(),inplace=True)\n",
    "df.isnull().sum()"
   ]
  },
  {
   "cell_type": "code",
   "execution_count": 7,
   "metadata": {},
   "outputs": [
    {
     "data": {
      "text/plain": [
       "Restaurant ID             int64\n",
       "Restaurant Name          object\n",
       "Country Code              int64\n",
       "City                     object\n",
       "Address                  object\n",
       "Locality                 object\n",
       "Locality Verbose         object\n",
       "Longitude               float64\n",
       "Latitude                float64\n",
       "Cuisines                 object\n",
       "Average Cost for two      int64\n",
       "Currency                 object\n",
       "Has Table booking        object\n",
       "Has Online delivery      object\n",
       "Is delivering now        object\n",
       "Switch to order menu     object\n",
       "Price range               int64\n",
       "Aggregate rating        float64\n",
       "Rating color             object\n",
       "Rating text              object\n",
       "Votes                     int64\n",
       "dtype: object"
      ]
     },
     "execution_count": 7,
     "metadata": {},
     "output_type": "execute_result"
    }
   ],
   "source": [
    "df.dtypes"
   ]
  },
  {
   "cell_type": "markdown",
   "metadata": {},
   "source": [
    "## data-type conversion"
   ]
  },
  {
   "cell_type": "code",
   "execution_count": 8,
   "metadata": {},
   "outputs": [
    {
     "data": {
      "text/plain": [
       "Restaurant ID              int64\n",
       "Restaurant Name           object\n",
       "Country Code               int64\n",
       "City                      object\n",
       "Address                   object\n",
       "Locality                  object\n",
       "Locality Verbose          object\n",
       "Longitude                float64\n",
       "Latitude                 float64\n",
       "Cuisines                  object\n",
       "Average Cost for two       int64\n",
       "Currency                  object\n",
       "Has Table booking       category\n",
       "Has Online delivery     category\n",
       "Is delivering now       category\n",
       "Switch to order menu    category\n",
       "Price range                int64\n",
       "Aggregate rating         float64\n",
       "Rating color            category\n",
       "Rating text             category\n",
       "Votes                      int64\n",
       "dtype: object"
      ]
     },
     "execution_count": 8,
     "metadata": {},
     "output_type": "execute_result"
    }
   ],
   "source": [
    "categorical_columns=[\"Has Table booking\",\"Has Online delivery\",\"Is delivering now\",\"Switch to order menu\",\"Rating color\",\"Rating text\"]\n",
    "for col in categorical_columns:\n",
    "    if col in df.columns:\n",
    "        df[col]=df[col].astype('category')\n",
    "df[\"Aggregate rating\"]=pd.to_numeric(df[\"Aggregate rating\"], errors='coerce')\n",
    "df.dtypes"
   ]
  },
  {
   "cell_type": "markdown",
   "metadata": {},
   "source": [
    "## Distribution of the target variable (\"Aggregate rating\")"
   ]
  },
  {
   "cell_type": "code",
   "execution_count": 9,
   "metadata": {},
   "outputs": [
    {
     "data": {
      "image/png": "[encoded data removed]",
      "text/plain": [
       "<Figure size 800x500 with 1 Axes>"
      ]
     },
     "metadata": {},
     "output_type": "display_data"
    }
   ],
   "source": [
    "import matplotlib.pyplot as plt\n",
    "import seaborn as sns\n",
    "plt.figure(figsize=(8,5))\n",
    "sns.histplot(df[\"Aggregate rating\"],bins=20,kde=True,color=\"blue\")\n",
    "plt.title(\"Distribution of Aggregate rating\")\n",
    "plt.xlabel(\"Aggregate Rating\")\n",
    "plt.ylabel(\"Count\")\n",
    "plt.show()"
   ]
  },
  {
   "cell_type": "code",
   "execution_count": 10,
   "metadata": {},
   "outputs": [
    {
     "data": {
      "text/plain": [
       "Aggregate rating\n",
       "0.0    2148\n",
       "1.8       1\n",
       "1.9       2\n",
       "2.0       7\n",
       "2.1      15\n",
       "2.2      27\n",
       "2.3      47\n",
       "2.4      87\n",
       "2.5     110\n",
       "2.6     191\n",
       "2.7     250\n",
       "2.8     315\n",
       "2.9     381\n",
       "3.0     468\n",
       "3.1     519\n",
       "3.2     522\n",
       "3.3     483\n",
       "3.4     498\n",
       "3.5     480\n",
       "3.6     458\n",
       "3.7     427\n",
       "3.8     400\n",
       "3.9     335\n",
       "4.0     266\n",
       "4.1     274\n",
       "4.2     221\n",
       "4.3     174\n",
       "4.4     144\n",
       "4.5      95\n",
       "4.6      78\n",
       "4.7      42\n",
       "4.8      25\n",
       "4.9      61\n",
       "Name: count, dtype: int64"
      ]
     },
     "execution_count": 10,
     "metadata": {},
     "output_type": "execute_result"
    }
   ],
   "source": [
    "df[\"Aggregate rating\"].value_counts().sort_index()"
   ]
  },
  {
   "cell_type": "markdown",
   "metadata": {},
   "source": [
    "## Class Distribution of Aggregate Rating"
   ]
  },
  {
   "cell_type": "code",
   "execution_count": 11,
   "metadata": {},
   "outputs": [
    {
     "name": "stderr",
     "output_type": "stream",
     "text": [
      "C:\\Users\\Usha\\AppData\\Local\\Temp\\ipykernel_988\\195602731.py:2: FutureWarning: \n",
      "\n",
      "Passing `palette` without assigning `hue` is deprecated and will be removed in v0.14.0. Assign the `x` variable to `hue` and set `legend=False` for the same effect.\n",
      "\n",
      "  sns.countplot(x=\"Aggregate rating\", data=df, palette=\"viridis\")\n"
     ]
    },
    {
     "data": {
      "image/png": "[encoded data removed]",
      "text/plain": [
       "<Figure size 800x500 with 1 Axes>"
      ]
     },
     "metadata": {},
     "output_type": "display_data"
    }
   ],
   "source": [
    "plt.figure(figsize=(8, 5))\n",
    "sns.countplot(x=\"Aggregate rating\", data=df, palette=\"viridis\")\n",
    "plt.title(\"Class Distribution of Aggregate Rating\")\n",
    "plt.xlabel(\"Aggregate Rating\")\n",
    "plt.ylabel(\"Count\")\n",
    "plt.xticks(rotation=45)\n",
    "plt.show()"
   ]
  },
  {
   "cell_type": "markdown",
   "metadata": {},
   "source": [
    "## Task-1 of Level-1 is Completed!"
   ]
  }
 ],
 "metadata": {
  "kernelspec": {
   "display_name": "Python 3",
   "language": "python",
   "name": "python3"
  },
  "language_info": {
   "codemirror_mode": {
    "name": "ipython",
    "version": 3
   },
   "file_extension": ".py",
   "mimetype": "text/x-python",
   "name": "python",
   "nbconvert_exporter": "python",
   "pygments_lexer": "ipython3",
   "version": "3.13.1"
  }
 },
 "nbformat": 4,
 "nbformat_minor": 2
}
